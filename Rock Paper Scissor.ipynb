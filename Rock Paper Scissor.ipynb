{
 "cells": [
  {
   "cell_type": "code",
   "execution_count": 3,
   "id": "c183f6fa",
   "metadata": {},
   "outputs": [
    {
     "name": "stdout",
     "output_type": "stream",
     "text": [
      "Enter Rock/Paper/Scissor or Q to quit: rock\n",
      "Computer picked rock\n",
      "Its a tie!\n",
      "Enter Rock/Paper/Scissor or Q to quit: scissor\n",
      "Computer picked rock\n",
      "Computer scored 1 point!\n",
      "Enter Rock/Paper/Scissor or Q to quit: paper\n",
      "Computer picked scissor\n",
      "Computer scored 1 point!\n",
      "Enter Rock/Paper/Scissor or Q to quit: rock\n",
      "Computer picked paper\n",
      "Computer scored 1 point!\n",
      "Enter Rock/Paper/Scissor or Q to quit: rock\n",
      "Computer picked paper\n",
      "Computer scored 1 point!\n",
      "Enter Rock/Paper/Scissor or Q to quit: paper\n",
      "Computer picked rock\n",
      "You scored 1 point!\n",
      "Enter Rock/Paper/Scissor or Q to quit: paper\n",
      "Computer picked scissor\n",
      "Computer scored 1 point!\n",
      "You lost\n"
     ]
    }
   ],
   "source": [
    "import random\n",
    "\n",
    "options=[\"rock\",\"paper\",\"scissor\"]\n",
    "\n",
    "user_score=0\n",
    "comp_score=0\n",
    "\n",
    " \n",
    "\n",
    "while True:\n",
    "\n",
    "    user_input= input(\"Enter Rock/Paper/Scissor or Q to quit: \").lower()\n",
    "\n",
    "    if user_input==\"q\":\n",
    "        break\n",
    "    random_no= random.randint(0,2)    \n",
    "    comp_input= options[random_no]\n",
    "    \n",
    "    print(\"Computer picked \"+ comp_input)\n",
    "    \n",
    "    if user_input==\"rock\" and comp_input==\"scissor\":\n",
    "        print(\"You scored 1 point!\")\n",
    "        user_score+=1\n",
    "        \n",
    "    elif user_input==comp_input:\n",
    "        print(\"Its a tie!\")\n",
    "        \n",
    "    elif user_input==\"paper\" and comp_input==\"rock\":\n",
    "        print(\"You scored 1 point!\")\n",
    "        user_score+=1\n",
    "        \n",
    "    elif user_input==\"scissor\" and comp_input==\"paper\":\n",
    "        print(\"You scored 1 point!\")\n",
    "        user_score+=1\n",
    "        \n",
    "    else:\n",
    "        print(\"Computer scored 1 point!\")\n",
    "        comp_score+=1\n",
    "        \n",
    "    if user_score==5 or comp_score==5:\n",
    "        break\n",
    "\n",
    "if user_score==5:\n",
    "    print(\"You won!\")\n",
    "else:\n",
    "    print(\"You lost\")"
   ]
  },
  {
   "cell_type": "code",
   "execution_count": null,
   "id": "c9cbf76a",
   "metadata": {},
   "outputs": [],
   "source": []
  },
  {
   "cell_type": "code",
   "execution_count": null,
   "id": "a6743d78",
   "metadata": {},
   "outputs": [],
   "source": []
  },
  {
   "cell_type": "code",
   "execution_count": null,
   "id": "bb7fd705",
   "metadata": {},
   "outputs": [],
   "source": [
    "\n"
   ]
  },
  {
   "cell_type": "code",
   "execution_count": null,
   "id": "6cd5f88e",
   "metadata": {},
   "outputs": [],
   "source": []
  },
  {
   "cell_type": "code",
   "execution_count": null,
   "id": "d8a1a3e3",
   "metadata": {},
   "outputs": [],
   "source": []
  },
  {
   "cell_type": "code",
   "execution_count": null,
   "id": "2fac84cf",
   "metadata": {},
   "outputs": [],
   "source": []
  }
 ],
 "metadata": {
  "kernelspec": {
   "display_name": "Python 3 (ipykernel)",
   "language": "python",
   "name": "python3"
  },
  "language_info": {
   "codemirror_mode": {
    "name": "ipython",
    "version": 3
   },
   "file_extension": ".py",
   "mimetype": "text/x-python",
   "name": "python",
   "nbconvert_exporter": "python",
   "pygments_lexer": "ipython3",
   "version": "3.9.7"
  }
 },
 "nbformat": 4,
 "nbformat_minor": 5
}
